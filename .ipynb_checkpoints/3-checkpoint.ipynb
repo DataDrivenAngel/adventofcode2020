{
 "cells": [
  {
   "cell_type": "code",
   "execution_count": 1,
   "metadata": {},
   "outputs": [],
   "source": [
    "text = open(\"3-input.txt\",'r')\n",
    "inpt = text.read().split('\\n')"
   ]
  },
  {
   "cell_type": "code",
   "execution_count": 2,
   "metadata": {},
   "outputs": [],
   "source": []
  },
  {
   "cell_type": "code",
   "execution_count": 3,
   "metadata": {},
   "outputs": [],
   "source": []
  },
  {
   "cell_type": "code",
   "execution_count": 18,
   "metadata": {},
   "outputs": [
    {
     "name": "stdout",
     "output_type": "stream",
     "text": [
      "Trees:  162\n"
     ]
    }
   ],
   "source": [
    "#1\n",
    "\n",
    "forest = inpt\n",
    "slope_vertical = 1\n",
    "slope_horizontal = 3\n",
    "width = len(inpt[1])\n",
    "\n",
    "y = 0\n",
    "x = 0\n",
    "trees = 0\n",
    "space = 0\n",
    "for crash_opportunity in forest:\n",
    "\n",
    "    x = x + slope_horizontal\n",
    "    y = y + slope_vertical\n",
    "    space = x % width\n",
    "    #print(forest[y][space])\n",
    "\n",
    "    if y == len(forest):\n",
    "        break\n",
    "    if forest[y][space] == '#':\n",
    "        trees = trees + 1\n",
    "    \n",
    "    \n",
    "    #print(y, len(forest),crash_opportunity, trees)\n",
    "    \n",
    "print(\"Trees: \", trees)\n"
   ]
  },
  {
   "cell_type": "code",
   "execution_count": 22,
   "metadata": {},
   "outputs": [],
   "source": [
    "#2\n",
    "slopes = [[1,1],[3,1],[5,1],[7,1],[1,2]]"
   ]
  },
  {
   "cell_type": "code",
   "execution_count": null,
   "metadata": {},
   "outputs": [],
   "source": [
    "for slope in slopes:\n",
    "    forest = inpt\n",
    "\n",
    "    slope_vertical = \n",
    "    slope_horizontal = 3\n",
    "    width = len(inpt[1])\n",
    "\n",
    "    y = 0\n",
    "    x = 0\n",
    "    trees = 0\n",
    "    space = 0\n",
    "    for crash_opportunity in forest:\n",
    "\n",
    "        x = x + slope_horizontal\n",
    "        y = y + slope_vertical\n",
    "        space = x % width\n",
    "        #print(forest[y][space])\n",
    "\n",
    "        if y == len(forest):\n",
    "            break\n",
    "        if forest[y][space] == '#':\n",
    "            trees = trees + 1\n",
    "\n",
    "\n",
    "        #print(y, len(forest),crash_opportunity, trees)\n",
    "\n",
    "        print(slope,\" has trees: \", trees)"
   ]
  },
  {
   "cell_type": "code",
   "execution_count": 23,
   "metadata": {},
   "outputs": [
    {
     "data": {
      "text/plain": [
       "[3, 1]"
      ]
     },
     "execution_count": 23,
     "metadata": {},
     "output_type": "execute_result"
    }
   ],
   "source": [
    "slopes[1]"
   ]
  },
  {
   "cell_type": "code",
   "execution_count": null,
   "metadata": {},
   "outputs": [],
   "source": []
  }
 ],
 "metadata": {
  "kernelspec": {
   "display_name": "Python 3",
   "language": "python",
   "name": "python3"
  },
  "language_info": {
   "codemirror_mode": {
    "name": "ipython",
    "version": 3
   },
   "file_extension": ".py",
   "mimetype": "text/x-python",
   "name": "python",
   "nbconvert_exporter": "python",
   "pygments_lexer": "ipython3",
   "version": "3.8.5"
  }
 },
 "nbformat": 4,
 "nbformat_minor": 4
}
