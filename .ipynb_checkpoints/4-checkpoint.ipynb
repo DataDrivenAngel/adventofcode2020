{
 "cells": [
  {
   "cell_type": "code",
   "execution_count": 109,
   "metadata": {},
   "outputs": [],
   "source": [
    "text = open(\"4-input.txt\",'r')"
   ]
  },
  {
   "cell_type": "code",
   "execution_count": 110,
   "metadata": {},
   "outputs": [],
   "source": [
    "inpt = text.read().split('\\n\\n')"
   ]
  },
  {
   "cell_type": "code",
   "execution_count": 112,
   "metadata": {},
   "outputs": [
    {
     "data": {
      "text/plain": [
       "[['byr:1971', 'iyr:2017 hgt:160cm', 'eyr:2020 ecl:hzl', 'pid:157096267'],\n",
       " ['hgt:183cm', 'pid:368895060', 'ecl:oth eyr:2020', 'iyr:2013', 'byr:1966'],\n",
       " ['ecl:lzr cid:279 pid:192cm',\n",
       "  'hcl:1f7352 iyr:2014 hgt:70cm eyr:1983',\n",
       "  'byr:2004'],\n",
       " ['hcl:#602927 iyr:2018 byr:1938 ecl:blu',\n",
       "  'eyr:2024 hgt:172cm',\n",
       "  'pid:839621424']]"
      ]
     },
     "execution_count": 112,
     "metadata": {},
     "output_type": "execute_result"
    }
   ],
   "source": [
    "n = 0\n",
    "for line in inpt:\n",
    "    inpt[n] = line.split('\\n')\n",
    "    n = n +1"
   ]
  },
  {
   "cell_type": "code",
   "execution_count": null,
   "metadata": {},
   "outputs": [],
   "source": [
    "for passport in inpt:\n",
    "    for item in passport:\n",
    "        if item.find(\" \") != -1:\n",
    "            passport.remove(item)\n",
    "            for keyvalue in item.split(\" \"):\n",
    "                passport.append(keyvalue)\n"
   ]
  },
  {
   "cell_type": "code",
   "execution_count": 120,
   "metadata": {},
   "outputs": [
    {
     "name": "stdout",
     "output_type": "stream",
     "text": [
      "182\n"
     ]
    }
   ],
   "source": [
    "valid = 0\n",
    "passports = inpt\n",
    "for document in passports:\n",
    "    validity_score = 0\n",
    "    for entry in document:\n",
    "        if entry[:3] == 'byr':\n",
    "            validity_score = validity_score +1\n",
    "        elif entry[:3] == 'iyr':\n",
    "            validity_score = validity_score +1\n",
    "        elif entry[:3] == 'eyr':\n",
    "            validity_score = validity_score +1\n",
    "        elif entry[:3] == 'hgt':\n",
    "            validity_score = validity_score +1\n",
    "        elif entry[:3] == 'hcl':\n",
    "            validity_score = validity_score +1\n",
    "        elif entry[:3] == 'ecl':\n",
    "            validity_score = validity_score +1\n",
    "        elif entry[:3] == 'pid':\n",
    "            validity_score = validity_score +1\n",
    "    if validity_score == 7:\n",
    "        valid = valid + 1\n",
    "print(valid)"
   ]
  },
  {
   "cell_type": "code",
   "execution_count": null,
   "metadata": {},
   "outputs": [],
   "source": []
  },
  {
   "cell_type": "code",
   "execution_count": null,
   "metadata": {},
   "outputs": [],
   "source": []
  },
  {
   "cell_type": "code",
   "execution_count": null,
   "metadata": {},
   "outputs": [],
   "source": []
  },
  {
   "cell_type": "code",
   "execution_count": null,
   "metadata": {},
   "outputs": [],
   "source": []
  },
  {
   "cell_type": "code",
   "execution_count": null,
   "metadata": {},
   "outputs": [],
   "source": []
  },
  {
   "cell_type": "code",
   "execution_count": null,
   "metadata": {},
   "outputs": [],
   "source": []
  },
  {
   "cell_type": "code",
   "execution_count": 40,
   "metadata": {},
   "outputs": [
    {
     "name": "stderr",
     "output_type": "stream",
     "text": [
      "IOPub data rate exceeded.\n",
      "The notebook server will temporarily stop sending output\n",
      "to the client in order to avoid crashing it.\n",
      "To change this limit, set the config variable\n",
      "`--NotebookApp.iopub_data_rate_limit`.\n",
      "\n",
      "Current values:\n",
      "NotebookApp.iopub_data_rate_limit=1000000.0 (bytes/sec)\n",
      "NotebookApp.rate_limit_window=3.0 (secs)\n",
      "\n"
     ]
    }
   ],
   "source": [
    "#import re\n",
    "#munged = re.sub(r\" \\w*(?<!, )\", \"', '\", strpt)\n",
    "#munged\n",
    "# strpt = str(inpt)\n",
    "\n",
    "# import time\n",
    "# n = 0 \n",
    "# try:\n",
    "#     while n < len(strpt):\n",
    "#         if strpt[n] == ' ' and strpt[n-1] != ',':\n",
    " \n",
    "#             strpt = strpt[:n] + \"', '\" + strpt[n:]\n",
    "#             n = n -4\n",
    "#         n = n + 1\n",
    "#         print()\n",
    "# except:\n",
    "#     print()\n",
    "# print(strpt)"
   ]
  },
  {
   "cell_type": "code",
   "execution_count": null,
   "metadata": {},
   "outputs": [],
   "source": [
    "strpt"
   ]
  },
  {
   "cell_type": "code",
   "execution_count": null,
   "metadata": {},
   "outputs": [],
   "source": []
  }
 ],
 "metadata": {
  "kernelspec": {
   "display_name": "Python 3",
   "language": "python",
   "name": "python3"
  },
  "language_info": {
   "codemirror_mode": {
    "name": "ipython",
    "version": 3
   },
   "file_extension": ".py",
   "mimetype": "text/x-python",
   "name": "python",
   "nbconvert_exporter": "python",
   "pygments_lexer": "ipython3",
   "version": "3.8.5"
  }
 },
 "nbformat": 4,
 "nbformat_minor": 4
}
