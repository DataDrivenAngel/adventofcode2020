{
 "cells": [
  {
   "cell_type": "code",
   "execution_count": 40,
   "metadata": {},
   "outputs": [],
   "source": [
    "text = open(\"7-test-input.txt\",'r')\n",
    "inpt = text.read().split('\\n')"
   ]
  },
  {
   "cell_type": "code",
   "execution_count": 2,
   "metadata": {},
   "outputs": [
    {
     "data": {
      "text/plain": [
       "302"
      ]
     },
     "execution_count": 2,
     "metadata": {},
     "output_type": "execute_result"
    }
   ],
   "source": [
    "# 1\n",
    "\n",
    "rule_values = []\n",
    "\n",
    "for rule in inpt:\n",
    "    split_rule = rule.split(\"bags contain\")\n",
    "    container = split_rule[0].strip()\n",
    "    contained = []\n",
    "\n",
    "    for bag in split_rule[1].split(\",\"):\n",
    "        clean_bag = bag.strip()[2:]\n",
    "        clean_bag = clean_bag[:clean_bag.find(\"bag\")].strip()\n",
    "        contained.append(clean_bag)\n",
    "    if container != \"shiny gold\":\n",
    "        for bag in contained:\n",
    "            rule = (container, bag)\n",
    "            rule_values.append(rule)\n",
    "    \n",
    "import networkx as nx\n",
    "graph = nx.DiGraph()\n",
    "\n",
    "graph.add_edges_from(rule_values)\n",
    "\n",
    "bad_gold_edges = []\n",
    "for edge in graph.edges:\n",
    "    if edge[0] ==\"shiny gold\" or edge[1] == \"other\" :\n",
    "        bad_gold_edges.append(edge)\n",
    "bad_gold_edges\n",
    "graph.remove_edges_from(bad_gold_edges)\n",
    "\n",
    "len(list(nx.bfs_tree(graph, source=\"shiny gold\",reverse = True)))-1"
   ]
  },
  {
   "cell_type": "code",
   "execution_count": 61,
   "metadata": {},
   "outputs": [
    {
     "data": {
      "text/plain": [
       "[('light red', 'muted yellow', '2'),\n",
       " ('light red', 'muted yellow', '2'),\n",
       " ('dark orange', 'muted yellow', '4'),\n",
       " ('dark orange', 'muted yellow', '4'),\n",
       " ('bright white', 'shiny gold', '1'),\n",
       " ('muted yellow', 'faded blue', '9'),\n",
       " ('muted yellow', 'faded blue', '9'),\n",
       " ('shiny gold', 'vibrant plum', '2'),\n",
       " ('shiny gold', 'vibrant plum', '2'),\n",
       " ('dark olive', 'dotted black', '4'),\n",
       " ('dark olive', 'dotted black', '4'),\n",
       " ('vibrant plum', 'dotted black', '6'),\n",
       " ('vibrant plum', 'dotted black', '6'),\n",
       " ('faded blue', 'none', '0'),\n",
       " ('dotted black', 'none', '0')]"
      ]
     },
     "execution_count": 61,
     "metadata": {},
     "output_type": "execute_result"
    }
   ],
   "source": [
    "rule_values = []\n",
    "\n",
    "for rule in inpt:\n",
    "\n",
    "    split_rule = rule.split(\"bags contain\")\n",
    "    container = split_rule[0].strip()\n",
    "    contained = []\n",
    "    if \"no\" not in split_rule[1]:\n",
    "        for bag in split_rule[1].split(\",\"):\n",
    "\n",
    "            clean_bag = bag.strip()[2:]\n",
    "            count = bag.strip()[0]\n",
    "            clean_bag = clean_bag[:clean_bag.find(\"bag\")].strip()\n",
    "            bag_val = (clean_bag , count)\n",
    "            contained.append(bag_val)\n",
    "\n",
    "        for bag in contained:\n",
    "            rule = (container, bag_val[0], bag_val[1])\n",
    "            rule_values.append(rule)\n",
    "    else: \n",
    "        rule = (container, \"none\", '0')\n",
    "        rule_values.append(rule)\n",
    "\n",
    "rule_values"
   ]
  },
  {
   "cell_type": "code",
   "execution_count": null,
   "metadata": {},
   "outputs": [],
   "source": []
  },
  {
   "cell_type": "code",
   "execution_count": null,
   "metadata": {},
   "outputs": [],
   "source": []
  },
  {
   "cell_type": "code",
   "execution_count": null,
   "metadata": {},
   "outputs": [],
   "source": []
  },
  {
   "cell_type": "code",
   "execution_count": 58,
   "metadata": {},
   "outputs": [],
   "source": [
    "rule = inpt[0]\n",
    "\n",
    "split_rule = rule.split(\"bags contain\")\n",
    "container = split_rule[0].strip()\n"
   ]
  },
  {
   "cell_type": "code",
   "execution_count": 24,
   "metadata": {},
   "outputs": [
    {
     "data": {
      "text/plain": [
       "'striped tan bags contain 2 light silver bags, 1 drab black bag, 2 clear tan bags, 2 mirrored tan bags.'"
      ]
     },
     "execution_count": 24,
     "metadata": {},
     "output_type": "execute_result"
    }
   ],
   "source": []
  },
  {
   "cell_type": "code",
   "execution_count": 19,
   "metadata": {},
   "outputs": [
    {
     "data": {
      "text/plain": [
       "['shiny maroon ', ' 2 dim crimson bags.']"
      ]
     },
     "execution_count": 19,
     "metadata": {},
     "output_type": "execute_result"
    }
   ],
   "source": []
  },
  {
   "cell_type": "code",
   "execution_count": null,
   "metadata": {},
   "outputs": [],
   "source": []
  }
 ],
 "metadata": {
  "kernelspec": {
   "display_name": "Python 3",
   "language": "python",
   "name": "python3"
  },
  "language_info": {
   "codemirror_mode": {
    "name": "ipython",
    "version": 3
   },
   "file_extension": ".py",
   "mimetype": "text/x-python",
   "name": "python",
   "nbconvert_exporter": "python",
   "pygments_lexer": "ipython3",
   "version": "3.8.5"
  }
 },
 "nbformat": 4,
 "nbformat_minor": 4
}
