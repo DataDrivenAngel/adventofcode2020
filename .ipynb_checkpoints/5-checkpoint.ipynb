{
 "cells": [
  {
   "cell_type": "code",
   "execution_count": 1,
   "metadata": {},
   "outputs": [],
   "source": [
    "text = open(\"5-input.txt\",'r')\n",
    "inpt = text.read().split('\\n')"
   ]
  },
  {
   "cell_type": "code",
   "execution_count": 2,
   "metadata": {},
   "outputs": [
    {
     "name": "stdout",
     "output_type": "stream",
     "text": [
      "max seat id is: 970\n"
     ]
    }
   ],
   "source": [
    "#1\n",
    "max_id = 0\n",
    "for boardingpass in inpt:\n",
    "\n",
    "    seats = [*range(0,128)]\n",
    "    for r in boardingpass[:7]:\n",
    "        if r == 'F':\n",
    "            seats = seats[:int(len(seats)/2)]\n",
    "        if r == 'B':\n",
    "            seats = seats[int(len(seats)/2):]\n",
    "\n",
    "    row = seats[0]\n",
    "\n",
    "    aisles = [*range(0,8)]\n",
    "    for c in boardingpass[7:]:\n",
    "        if c == 'L':\n",
    "            aisles = aisles[:int(len(aisles)/2)]\n",
    "        if c == 'R':\n",
    "            aisles = aisles[int(len(aisles)/2):]\n",
    "\n",
    "    column = aisles[0]\n",
    "\n",
    "    seat_id = (row*8)+column\n",
    "    max_id = max(max_id,seat_id)\n",
    "    \n",
    "\n",
    "#print(inpt[n], row, column, id)\n",
    "print(\"max seat id is:\",max_id)"
   ]
  },
  {
   "cell_type": "code",
   "execution_count": 3,
   "metadata": {},
   "outputs": [
    {
     "name": "stdout",
     "output_type": "stream",
     "text": [
      "your seat is: 587\n"
     ]
    }
   ],
   "source": [
    "#2\n",
    "seat_id_list = []\n",
    "max_id = 0\n",
    "\n",
    "for boardingpass in inpt:\n",
    "\n",
    "    seats = [*range(0,128)]\n",
    "    for r in boardingpass[:7]:\n",
    "        if r == 'F':\n",
    "            seats = seats[:int(len(seats)/2)]\n",
    "        if r == 'B':\n",
    "            seats = seats[int(len(seats)/2):]\n",
    "\n",
    "    row = seats[0]\n",
    "\n",
    "    aisles = [*range(0,8)]\n",
    "    for c in boardingpass[7:]:\n",
    "        if c == 'L':\n",
    "            aisles = aisles[:int(len(aisles)/2)]\n",
    "        if c == 'R':\n",
    "            aisles = aisles[int(len(aisles)/2):]\n",
    "\n",
    "    column = aisles[0]\n",
    "\n",
    "    seat_id = (row*8)+column\n",
    "    max_id = max(max_id,seat_id)\n",
    "    \n",
    "    seat_id_list.append(seat_id)\n",
    "\n",
    "#print(inpt[n], row, column, id)\n",
    "seat_id_list.sort()\n",
    "n = 0\n",
    "for seat in seat_id_list:\n",
    "    if (seat +1) != seat_id_list[(n+1)]:\n",
    "        print(\"your seat is:\", seat+1)\n",
    "        break\n",
    "    n = n+1"
   ]
  }
 ],
 "metadata": {
  "kernelspec": {
   "display_name": "Python 3",
   "language": "python",
   "name": "python3"
  },
  "language_info": {
   "codemirror_mode": {
    "name": "ipython",
    "version": 3
   },
   "file_extension": ".py",
   "mimetype": "text/x-python",
   "name": "python",
   "nbconvert_exporter": "python",
   "pygments_lexer": "ipython3",
   "version": "3.8.5"
  }
 },
 "nbformat": 4,
 "nbformat_minor": 4
}
