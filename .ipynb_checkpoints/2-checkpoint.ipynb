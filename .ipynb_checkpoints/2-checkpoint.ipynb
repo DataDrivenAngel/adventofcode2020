{
 "cells": [
  {
   "cell_type": "code",
   "execution_count": 72,
   "metadata": {},
   "outputs": [],
   "source": [
    "text = open(\"2-input.txt\",'r')\n",
    "inpt = text.read().split('\\n')"
   ]
  },
  {
   "cell_type": "code",
   "execution_count": 104,
   "metadata": {},
   "outputs": [
    {
     "name": "stdout",
     "output_type": "stream",
     "text": [
      "there are 454 valid passwords\n"
     ]
    }
   ],
   "source": [
    "#1\n",
    "\n",
    "valid = 0\n",
    "for line in inpt:\n",
    "    \n",
    "    try: \n",
    "        rule,password = line.split(':')\n",
    "    except:\n",
    "        break\n",
    "    # the last line in the text file breaks this the split, so I have a try catch.\n",
    "        \n",
    "    rule_counts, rule_letter = rule.split(' ')\n",
    "    rule_min, rule_max =  rule_counts.split('-')\n",
    "    letter_count = password.count(rule_letter)\n",
    "    \n",
    "    \n",
    "    if (letter_count <= int(rule_max) and (int(rule_min) <= letter_count)):\n",
    "        valid = valid +1\n",
    "        \n",
    "#     print(f\"line = {line}, password = {password}, letter_count = {letter_count} , min = {rule_min}, max = {rule_max}\")\n",
    "#     print(valid)\n",
    "print(f\"there are {valid} valid passwords\")"
   ]
  },
  {
   "cell_type": "code",
   "execution_count": 103,
   "metadata": {},
   "outputs": [
    {
     "name": "stdout",
     "output_type": "stream",
     "text": [
      "649\n"
     ]
    }
   ],
   "source": [
    "#2\n",
    "\n",
    "valid = 0\n",
    "for line in inpt:\n",
    "    \n",
    "    try: \n",
    "        rule,password = line.split(':')\n",
    "    except:\n",
    "        break\n",
    "    # the last line in the text file breaks this the split, so I have a try catch.\n",
    "        \n",
    "    rule_counts, rule_letter = rule.split(' ')\n",
    "    rule_1, rule_2 =  rule_counts.split('-')\n",
    "\n",
    "    count = 0\n",
    "    if password[int(rule_1)] == rule_letter:\n",
    "       count = count +1\n",
    "    \n",
    "    if password[int(rule_2)] == rule_letter:\n",
    "       count = count +1\n",
    "    \n",
    "    if count == 1:\n",
    "        valid = valid +1\n",
    "\n",
    "        \n",
    "#   print(f\" password = {password}, rule_letter = {rule_letter} , min = {rule_1}, max = {rule_2}, {c}\")\n",
    "print(valid)"
   ]
  },
  {
   "cell_type": "code",
   "execution_count": null,
   "metadata": {},
   "outputs": [],
   "source": []
  },
  {
   "cell_type": "code",
   "execution_count": null,
   "metadata": {},
   "outputs": [],
   "source": []
  },
  {
   "cell_type": "code",
   "execution_count": null,
   "metadata": {},
   "outputs": [],
   "source": []
  },
  {
   "cell_type": "code",
   "execution_count": null,
   "metadata": {},
   "outputs": [],
   "source": []
  },
  {
   "cell_type": "code",
   "execution_count": null,
   "metadata": {},
   "outputs": [],
   "source": []
  },
  {
   "cell_type": "code",
   "execution_count": null,
   "metadata": {},
   "outputs": [],
   "source": []
  }
 ],
 "metadata": {
  "kernelspec": {
   "display_name": "Python 3",
   "language": "python",
   "name": "python3"
  },
  "language_info": {
   "codemirror_mode": {
    "name": "ipython",
    "version": 3
   },
   "file_extension": ".py",
   "mimetype": "text/x-python",
   "name": "python",
   "nbconvert_exporter": "python",
   "pygments_lexer": "ipython3",
   "version": "3.8.5"
  }
 },
 "nbformat": 4,
 "nbformat_minor": 4
}
