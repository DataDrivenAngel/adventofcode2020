{
 "cells": [
  {
   "cell_type": "code",
   "execution_count": 65,
   "metadata": {},
   "outputs": [],
   "source": [
    "text = open(\"2-input.txt\",'r')\n",
    "inpt = text.read().split('\\n')"
   ]
  },
  {
   "cell_type": "code",
   "execution_count": 66,
   "metadata": {},
   "outputs": [
    {
     "name": "stdout",
     "output_type": "stream",
     "text": [
      "there are 454 valid passwords\n"
     ]
    }
   ],
   "source": [
    "valid = 0\n",
    "for line in inpt:\n",
    "    \n",
    "    try: \n",
    "        rule,password = line.split(':')\n",
    "    except:\n",
    "        break\n",
    "    # the last line in the text file breaks this the split, so I have a try catch.\n",
    "        \n",
    "    rule_counts, rule_letter = rule.split(' ')\n",
    "    rule_min, rule_max =  rule_counts.split('-')\n",
    "    letter_count = password.count(rule_letter)\n",
    "    \n",
    "    \n",
    "    if (letter_count <= int(rule_max) and (int(rule_min) <= letter_count)):\n",
    "        valid = valid +1\n",
    "        \n",
    "#     print(f\"line = {line}, password = {password}, letter_count = {letter_count} , min = {rule_min}, max = {rule_max}\")\n",
    "#     print(valid)\n",
    "print(f\"there are {valid} valid passwords\")"
   ]
  },
  {
   "cell_type": "code",
   "execution_count": null,
   "metadata": {},
   "outputs": [],
   "source": []
  },
  {
   "cell_type": "code",
   "execution_count": null,
   "metadata": {},
   "outputs": [],
   "source": []
  },
  {
   "cell_type": "code",
   "execution_count": null,
   "metadata": {},
   "outputs": [],
   "source": []
  },
  {
   "cell_type": "code",
   "execution_count": null,
   "metadata": {},
   "outputs": [],
   "source": []
  },
  {
   "cell_type": "code",
   "execution_count": null,
   "metadata": {},
   "outputs": [],
   "source": []
  },
  {
   "cell_type": "code",
   "execution_count": null,
   "metadata": {},
   "outputs": [],
   "source": []
  }
 ],
 "metadata": {
  "kernelspec": {
   "display_name": "Python 3",
   "language": "python",
   "name": "python3"
  },
  "language_info": {
   "codemirror_mode": {
    "name": "ipython",
    "version": 3
   },
   "file_extension": ".py",
   "mimetype": "text/x-python",
   "name": "python",
   "nbconvert_exporter": "python",
   "pygments_lexer": "ipython3",
   "version": "3.8.5"
  }
 },
 "nbformat": 4,
 "nbformat_minor": 4
}
