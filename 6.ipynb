{
 "cells": [
  {
   "cell_type": "code",
   "execution_count": 1,
   "metadata": {},
   "outputs": [],
   "source": [
    "text = open(\"6-input.txt\",'r')\n",
    "inpt = text.read().split('\\n\\n')\n",
    "n = 0\n",
    "for line in inpt:\n",
    "    inpt[n] = line.split('\\n')\n",
    "    n = n +1"
   ]
  },
  {
   "cell_type": "code",
   "execution_count": 2,
   "metadata": {},
   "outputs": [
    {
     "name": "stdout",
     "output_type": "stream",
     "text": [
      "6947\n"
     ]
    }
   ],
   "source": [
    "#1\n",
    "\n",
    "answers = []\n",
    "for group in inpt:\n",
    "    answer_values = []\n",
    "    for char in \"\".join(group):\n",
    "        if char not in answer_values:\n",
    "            answer_values.append(char)\n",
    "    answers.append(len(answer_values))\n",
    "\n",
    "\n",
    "import math\n",
    "overall = sum(answers)\n",
    "print(overall)"
   ]
  },
  {
   "cell_type": "code",
   "execution_count": 3,
   "metadata": {},
   "outputs": [
    {
     "name": "stdout",
     "output_type": "stream",
     "text": [
      "3398\n"
     ]
    }
   ],
   "source": [
    "#2\n",
    "answers = []\n",
    "for group in inpt:\n",
    "\n",
    "    answer_values = {}\n",
    "    for char in \"\".join(group):\n",
    "        if char not in answer_values:\n",
    "            answer_values[char] = 1\n",
    "        elif char in answer_values:\n",
    "            answer_values[char] += 1\n",
    "    answers.append(sum(answer == len(group) for answer in answer_values.values()))\n",
    "overall = sum(answers)\n",
    "print(overall)"
   ]
  }
 ],
 "metadata": {
  "kernelspec": {
   "display_name": "Python 3",
   "language": "python",
   "name": "python3"
  },
  "language_info": {
   "codemirror_mode": {
    "name": "ipython",
    "version": 3
   },
   "file_extension": ".py",
   "mimetype": "text/x-python",
   "name": "python",
   "nbconvert_exporter": "python",
   "pygments_lexer": "ipython3",
   "version": "3.8.5"
  }
 },
 "nbformat": 4,
 "nbformat_minor": 4
}
