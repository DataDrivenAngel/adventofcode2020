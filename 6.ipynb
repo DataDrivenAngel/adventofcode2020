{
 "cells": [
  {
   "cell_type": "code",
   "execution_count": 19,
   "metadata": {},
   "outputs": [],
   "source": [
    "text = open(\"6-input.txt\",'r')\n",
    "inpt = text.read().split('\\n\\n')\n",
    "n = 0\n",
    "for line in inpt:\n",
    "    inpt[n] = line.split('\\n')\n",
    "    n = n +1"
   ]
  },
  {
   "cell_type": "code",
   "execution_count": 21,
   "metadata": {},
   "outputs": [
    {
     "data": {
      "text/plain": [
       "[['xav', 'uavx', 'xavsi', 'yavx'],\n",
       " ['efokjptizdcwmqnuh', 'qgfdvurtnjwpichxk', 'taqkcunfzpmydiwjsh'],\n",
       " ['mzbg', 'tmg', 'rlvge', 'hgpbzn', 'cagkijyu'],\n",
       " ['ahynbmqljzpwxokcfrtsgeud',\n",
       "  'xwzcmdhkrjnupegqlyoaft',\n",
       "  'fjnurhzoqmgwacxdlypkte',\n",
       "  'qwrjxahtlnzcfdouepmkgy',\n",
       "  'ezpqxfcmgrnhylukwajotd'],\n",
       " ['jrxcnyadsgbtpvoze',\n",
       "  'secpytarvdzjgb',\n",
       "  'ycsfzgtedarbjvp',\n",
       "  'tsgejyzcdbvpra',\n",
       "  'ygtbvzredpacjs']]"
      ]
     },
     "execution_count": 21,
     "metadata": {},
     "output_type": "execute_result"
    }
   ],
   "source": [
    "inpt[:5]"
   ]
  },
  {
   "cell_type": "code",
   "execution_count": 22,
   "metadata": {},
   "outputs": [
    {
     "data": {
      "text/plain": [
       "['efokjptizdcwmqnuh', 'qgfdvurtnjwpichxk', 'taqkcunfzpmydiwjsh']"
      ]
     },
     "execution_count": 22,
     "metadata": {},
     "output_type": "execute_result"
    }
   ],
   "source": [
    "inpt[1]"
   ]
  },
  {
   "cell_type": "code",
   "execution_count": null,
   "metadata": {},
   "outputs": [],
   "source": [
    "# idea 1: loop through groups and answers per group and "
   ]
  }
 ],
 "metadata": {
  "kernelspec": {
   "display_name": "Python 3",
   "language": "python",
   "name": "python3"
  },
  "language_info": {
   "codemirror_mode": {
    "name": "ipython",
    "version": 3
   },
   "file_extension": ".py",
   "mimetype": "text/x-python",
   "name": "python",
   "nbconvert_exporter": "python",
   "pygments_lexer": "ipython3",
   "version": "3.8.5"
  }
 },
 "nbformat": 4,
 "nbformat_minor": 4
}
