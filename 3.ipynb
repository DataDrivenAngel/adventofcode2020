{
 "cells": [
  {
   "cell_type": "code",
   "execution_count": 1,
   "metadata": {},
   "outputs": [],
   "source": [
    "text = open(\"3-input.txt\",'r')\n",
    "inpt = text.read().split('\\n')"
   ]
  },
  {
   "cell_type": "code",
   "execution_count": 2,
   "metadata": {},
   "outputs": [
    {
     "name": "stdout",
     "output_type": "stream",
     "text": [
      "Trees:  162\n"
     ]
    }
   ],
   "source": [
    "#1\n",
    "\n",
    "forest = inpt\n",
    "slope_vertical = 1\n",
    "slope_horizontal = 3\n",
    "width = len(inpt[1])\n",
    "\n",
    "y = 0\n",
    "x = 0\n",
    "trees = 0\n",
    "space = 0\n",
    "for crash_opportunity in forest:\n",
    "\n",
    "    x = x + slope_horizontal\n",
    "    y = y + slope_vertical\n",
    "    space = x % width\n",
    "    #print(forest[y][space])\n",
    "\n",
    "    if y == len(forest):\n",
    "        break\n",
    "    if forest[y][space] == '#':\n",
    "        trees = trees + 1\n",
    "    \n",
    "    \n",
    "    #print(y, len(forest),crash_opportunity, trees)\n",
    "    \n",
    "print(\"Trees: \", trees)\n"
   ]
  },
  {
   "cell_type": "code",
   "execution_count": 3,
   "metadata": {},
   "outputs": [],
   "source": [
    "#2\n",
    "slopes = [[1,1],[3,1],[5,1],[7,1],[1,2]]"
   ]
  },
  {
   "cell_type": "code",
   "execution_count": 20,
   "metadata": {},
   "outputs": [
    {
     "name": "stdout",
     "output_type": "stream",
     "text": [
      "Slope [1, 1] has 80 trees\n",
      "Slope [3, 1] has 162 trees\n",
      "Slope [5, 1] has 77 trees\n",
      "Slope [7, 1] has 83 trees\n",
      "Slope [1, 2] has 37 trees\n",
      "[80, 162, 77, 83, 37]\n",
      "Trees overall: 3064612320\n"
     ]
    }
   ],
   "source": [
    "forest = inpt\n",
    "width = len(forest[0])\n",
    "tree_count = []\n",
    "\n",
    "for slope in slopes:\n",
    "    \n",
    "\n",
    "    slope_vertical = slope[1]\n",
    "    slope_horizontal = slope[0]\n",
    "    \n",
    "\n",
    "    y = 0\n",
    "    x = 0\n",
    "    trees = 0\n",
    "    for crash_opportunity in forest:\n",
    "\n",
    "        x = x + slope_horizontal\n",
    "        y = y + slope_vertical\n",
    "        space = x % width\n",
    "        #print(forest[y][space])\n",
    "\n",
    "        if y == len(forest):\n",
    "            break\n",
    "        elif slope_vertical == 2 and y+1 == len(forest):\n",
    "            break\n",
    "     #   print(y, len(forest))\n",
    "        if forest[y][space] == '#':\n",
    "            trees = trees + 1\n",
    "    \n",
    "    tree_count.append(trees)\n",
    "    print(f\"Slope {slope} has {trees} trees\")\n",
    "\n",
    "import math\n",
    "overall = math.prod(tree_count)\n",
    "print(tree_count)\n",
    "print(\"Trees overall:\",overall)\n",
    "\n",
    "        \n",
    "\n",
    "        "
   ]
  }
 ],
 "metadata": {
  "kernelspec": {
   "display_name": "Python 3",
   "language": "python",
   "name": "python3"
  },
  "language_info": {
   "codemirror_mode": {
    "name": "ipython",
    "version": 3
   },
   "file_extension": ".py",
   "mimetype": "text/x-python",
   "name": "python",
   "nbconvert_exporter": "python",
   "pygments_lexer": "ipython3",
   "version": "3.8.5"
  }
 },
 "nbformat": 4,
 "nbformat_minor": 4
}
