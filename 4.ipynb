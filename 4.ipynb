{
 "cells": [
  {
   "cell_type": "code",
   "execution_count": 1,
   "metadata": {},
   "outputs": [],
   "source": [
    "text = open(\"4-input.txt\",'r')"
   ]
  },
  {
   "cell_type": "code",
   "execution_count": 2,
   "metadata": {},
   "outputs": [],
   "source": [
    "inpt = text.read().split('\\n\\n')"
   ]
  },
  {
   "cell_type": "code",
   "execution_count": 3,
   "metadata": {},
   "outputs": [],
   "source": [
    "n = 0\n",
    "for line in inpt:\n",
    "    inpt[n] = line.split('\\n')\n",
    "    n = n +1"
   ]
  },
  {
   "cell_type": "code",
   "execution_count": 4,
   "metadata": {},
   "outputs": [
    {
     "name": "stdout",
     "output_type": "stream",
     "text": [
      "['byr:1971', 'iyr:2017 hgt:160cm', 'eyr:2020 ecl:hzl', 'pid:157096267']\n",
      "['byr:1971', 'eyr:2020 ecl:hzl', 'pid:157096267', 'iyr:2017', 'hgt:160cm']\n",
      "['byr:1971', 'pid:157096267', 'iyr:2017', 'hgt:160cm', 'eyr:2020', 'ecl:hzl']\n"
     ]
    }
   ],
   "source": [
    "#this needs to be run twice to format everything into lists of keyvalue\n",
    "print(inpt[0])\n",
    "for passport in inpt:\n",
    "    for item in passport:\n",
    "        if item.find(\" \") != -1:\n",
    "            passport.remove(item)\n",
    "            for keyvalue in item.split(\" \"):\n",
    "                passport.append(keyvalue)\n",
    "                \n",
    "print(inpt[0])\n",
    "for passport in inpt:\n",
    "    for item in passport:\n",
    "        if item.find(\" \") != -1:\n",
    "            passport.remove(item)\n",
    "            for keyvalue in item.split(\" \"):\n",
    "                passport.append(keyvalue)\n",
    "print(inpt[0])\n"
   ]
  },
  {
   "cell_type": "code",
   "execution_count": 5,
   "metadata": {},
   "outputs": [
    {
     "name": "stdout",
     "output_type": "stream",
     "text": [
      "182 Valid passports\n"
     ]
    }
   ],
   "source": [
    "#1\n",
    "\n",
    "valid = 0\n",
    "passports = inpt\n",
    "for document in passports:\n",
    "    validity_score = 0\n",
    "    for entry in document:\n",
    "        if entry[:3] == 'byr':\n",
    "            validity_score = validity_score +1\n",
    "        elif entry[:3] == 'iyr':\n",
    "            validity_score = validity_score +1\n",
    "        elif entry[:3] == 'eyr':\n",
    "            validity_score = validity_score +1\n",
    "        elif entry[:3] == 'hgt':\n",
    "            validity_score = validity_score +1\n",
    "        elif entry[:3] == 'hcl':\n",
    "            validity_score = validity_score +1\n",
    "        elif entry[:3] == 'ecl':\n",
    "            validity_score = validity_score +1\n",
    "        elif entry[:3] == 'pid':\n",
    "            validity_score = validity_score +1\n",
    "    if validity_score == 7:\n",
    "        valid = valid + 1\n",
    "print(valid, \"Valid passports\")"
   ]
  },
  {
   "cell_type": "code",
   "execution_count": 6,
   "metadata": {},
   "outputs": [
    {
     "name": "stdout",
     "output_type": "stream",
     "text": [
      "111 Valid passports\n"
     ]
    }
   ],
   "source": [
    "import re\n",
    "\n",
    "valid = 0\n",
    "passports = inpt\n",
    "for document in passports:\n",
    "    validity_score = 0\n",
    "    for entry in document:\n",
    "        if entry[:3] == 'byr' and entry[4:].isdigit()==True and int(entry[4:])<= 2002 and int(entry[4:]) >= 1920 :\n",
    "            validity_score = validity_score +1\n",
    "            \n",
    "        elif entry[:3] == 'iyr' and entry[4:].isdigit()==True and int(entry[4:])<= 2020 and int(entry[4:]) >= 2010:\n",
    "            validity_score = validity_score +1\n",
    "            \n",
    "        elif entry[:3] == 'eyr' and entry[4:].isdigit()==True and int(entry[4:])<= 2030 and int(entry[4:]) >= 2020:\n",
    "            validity_score = validity_score +1\n",
    "            \n",
    "        elif entry[:3] == 'hgt':\n",
    "\n",
    "            try:   # There is one bastard 70cm passport. Don't feel like refactoring everything into proper variables\n",
    "                \n",
    "                if entry[-2:] == 'cm' and int(entry[-5:-2]) >= 150 and int(entry[-5:-2]) <= 193:\n",
    "                    validity_score = validity_score +1\n",
    "            except:\n",
    "\n",
    "                validity_score = validity_score\n",
    "            \n",
    "            if entry[-2:] == 'in' and int(entry[-4:-2]) >= 59 and int(entry[-4:-2]) <= 76:\n",
    "                validity_score = validity_score +1\n",
    "        \n",
    "        elif entry[:3] == 'hcl' and re.search(\"^#([a-f0-9]{6})$\",entry[4:]):\n",
    "            validity_score = validity_score +1\n",
    "            \n",
    "        elif entry[:3] == 'ecl' and entry[4:] in ['amb','blu','brn','gry','grn','hzl','oth']:\n",
    "            validity_score = validity_score +1\n",
    "        elif entry[:3] == 'pid' and entry[4:].isdigit()==True:\n",
    "            validity_score = validity_score +1\n",
    "    if validity_score == 7:\n",
    "        valid = valid + 1\n",
    "    #print(validity_score, document)\n",
    "print(valid,\"Valid passports\")"
   ]
  },
  {
   "cell_type": "code",
   "execution_count": 7,
   "metadata": {},
   "outputs": [],
   "source": [
    "#Correct answer is 109. I got frustrated that 111 is the wrong answer and after trying to fix this for an hour just decided to guess a time or two and put in 109 for my first guess and got it???!?!?"
   ]
  }
 ],
 "metadata": {
  "kernelspec": {
   "display_name": "Python 3",
   "language": "python",
   "name": "python3"
  },
  "language_info": {
   "codemirror_mode": {
    "name": "ipython",
    "version": 3
   },
   "file_extension": ".py",
   "mimetype": "text/x-python",
   "name": "python",
   "nbconvert_exporter": "python",
   "pygments_lexer": "ipython3",
   "version": "3.8.5"
  }
 },
 "nbformat": 4,
 "nbformat_minor": 4
}
