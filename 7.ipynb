{
 "cells": [
  {
   "cell_type": "code",
   "execution_count": 1,
   "metadata": {},
   "outputs": [],
   "source": [
    "text = open(\"7-input.txt\",'r')\n",
    "inpt = text.read().split('\\n')"
   ]
  },
  {
   "cell_type": "code",
   "execution_count": 2,
   "metadata": {},
   "outputs": [
    {
     "data": {
      "text/plain": [
       "302"
      ]
     },
     "execution_count": 2,
     "metadata": {},
     "output_type": "execute_result"
    }
   ],
   "source": [
    "# 1\n",
    "\n",
    "rule_values = []\n",
    "\n",
    "for rule in inpt:\n",
    "    split_rule = rule.split(\"bags contain\")\n",
    "    container = split_rule[0].strip()\n",
    "    contained = []\n",
    "\n",
    "    for bag in split_rule[1].split(\",\"):\n",
    "        clean_bag = bag.strip()[2:]\n",
    "        clean_bag = clean_bag[:clean_bag.find(\"bag\")].strip()\n",
    "        contained.append(clean_bag)\n",
    "    if container != \"shiny gold\":\n",
    "        for bag in contained:\n",
    "            rule = (container, bag)\n",
    "            rule_values.append(rule)\n",
    "    \n",
    "import networkx as nx\n",
    "graph = nx.DiGraph()\n",
    "\n",
    "graph.add_edges_from(rule_values)\n",
    "\n",
    "bad_gold_edges = []\n",
    "for edge in graph.edges:\n",
    "    if edge[0] ==\"shiny gold\" or edge[1] == \"other\" :\n",
    "        bad_gold_edges.append(edge)\n",
    "bad_gold_edges\n",
    "graph.remove_edges_from(bad_gold_edges)\n",
    "\n",
    "len(list(nx.bfs_tree(graph, source=\"shiny gold\",reverse = True)))-1"
   ]
  },
  {
   "cell_type": "code",
   "execution_count": null,
   "metadata": {},
   "outputs": [],
   "source": []
  },
  {
   "cell_type": "code",
   "execution_count": null,
   "metadata": {},
   "outputs": [],
   "source": []
  },
  {
   "cell_type": "code",
   "execution_count": null,
   "metadata": {},
   "outputs": [],
   "source": []
  },
  {
   "cell_type": "code",
   "execution_count": null,
   "metadata": {},
   "outputs": [],
   "source": []
  }
 ],
 "metadata": {
  "kernelspec": {
   "display_name": "Python 3",
   "language": "python",
   "name": "python3"
  },
  "language_info": {
   "codemirror_mode": {
    "name": "ipython",
    "version": 3
   },
   "file_extension": ".py",
   "mimetype": "text/x-python",
   "name": "python",
   "nbconvert_exporter": "python",
   "pygments_lexer": "ipython3",
   "version": "3.8.5"
  }
 },
 "nbformat": 4,
 "nbformat_minor": 4
}
