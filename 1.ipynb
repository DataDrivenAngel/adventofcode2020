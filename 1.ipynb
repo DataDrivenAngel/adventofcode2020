{
 "metadata": {
  "language_info": {
   "codemirror_mode": {
    "name": "ipython",
    "version": 3
   },
   "file_extension": ".py",
   "mimetype": "text/x-python",
   "name": "python",
   "nbconvert_exporter": "python",
   "pygments_lexer": "ipython3",
   "version": "3.8.5-final"
  },
  "orig_nbformat": 2,
  "kernelspec": {
   "name": "python3",
   "display_name": "Python 3"
  }
 },
 "nbformat": 4,
 "nbformat_minor": 2,
 "cells": [
  {
   "cell_type": "code",
   "execution_count": 56,
   "metadata": {},
   "outputs": [],
   "source": [
    "text = open(\"1-input.txt\",'r')\n",
    "inpt = text.read().split()\n",
    "ints = [int(line) for line in inpt]"
   ]
  },
  {
   "cell_type": "code",
   "execution_count": 57,
   "metadata": {},
   "outputs": [],
   "source": [
    "ints.sort()"
   ]
  },
  {
   "cell_type": "code",
   "execution_count": 59,
   "metadata": {
    "tags": []
   },
   "outputs": [
    {
     "output_type": "stream",
     "name": "stdout",
     "text": [
      "79734368\n",
      "79734368\n",
      "79734368\n",
      "79734368\n",
      "79734368\n",
      "79734368\n"
     ]
    }
   ],
   "source": [
    "for x in ints:\n",
    "    a = x\n",
    "    for y in ints:\n",
    "        b = y\n",
    "        for z in ints:\n",
    "            c = z\n",
    "            if a + b + c == 2020:\n",
    "                print(a*b*c)"
   ]
  },
  {
   "cell_type": "code",
   "execution_count": null,
   "metadata": {},
   "outputs": [],
   "source": [
    "    a = int(line)\n",
    "\n",
    "    for row in t1:\n",
    "\n",
    "        b = int(row)\n",
    "        if (a + b) == 2020:\n",
    "            print(\"hello\")\n",
    "            print(a*b)\n",
    "    n = n + 1"
   ]
  },
  {
   "cell_type": "code",
   "execution_count": null,
   "metadata": {},
   "outputs": [],
   "source": []
  }
 ]
}